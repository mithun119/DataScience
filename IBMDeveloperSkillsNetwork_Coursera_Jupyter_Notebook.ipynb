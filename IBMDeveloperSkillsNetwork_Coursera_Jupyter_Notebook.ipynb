{
  "metadata": {
    "kernelspec": {
      "name": "python",
      "display_name": "Pyolite",
      "language": "python"
    },
    "language_info": {
      "codemirror_mode": {
        "name": "python",
        "version": 3
      },
      "file_extension": ".py",
      "mimetype": "text/x-python",
      "name": "python",
      "nbconvert_exporter": "python",
      "pygments_lexer": "ipython3",
      "version": "3.8"
    }
  },
  "nbformat_minor": 4,
  "nbformat": 4,
  "cells": [
    {
      "cell_type": "markdown",
      "source": "<center>\n    <img src=\"https://cf-courses-data.s3.us.cloud-object-storage.appdomain.cloud/IBMDeveloperSkillsNetwork-DS0105EN-SkillsNetwork/labs/Module2/images/SN_web_lightmode.png\" width=\"300\" alt=\"cognitiveclass.ai logo\">\n</center>\n",
      "metadata": {}
    },
    {
      "cell_type": "markdown",
      "source": "# My Jupyter Notebook on IBM Watson Studio",
      "metadata": {}
    },
    {
      "cell_type": "markdown",
      "source": " **Mithun Bobade**\n <br>\n Software engineer",
      "metadata": {}
    },
    {
      "cell_type": "markdown",
      "source": "*I am interested in data science because I like analyzing data and patterns between the data!!*",
      "metadata": {}
    },
    {
      "cell_type": "markdown",
      "source": "### My below code will add two numbers 10 and 12",
      "metadata": {}
    },
    {
      "cell_type": "code",
      "source": "print(10+12)",
      "metadata": {
        "trusted": true
      },
      "execution_count": 5,
      "outputs": [
        {
          "name": "stdout",
          "text": "22\n",
          "output_type": "stream"
        }
      ]
    },
    {
      "cell_type": "markdown",
      "source": "***\n\nHorizontal Rule\n\n***\n\n* This is a bullet list point 1\n* This is a bullet list point 2\n\n1. This is a number list point 1\n2. This is a number list point 2\n\n| header | header | header | header |\n| ------ | ------ |------ | ------ |\n| cell | cell |cell | cell |\n| cell | cell |cell | cell |\n| cell | cell |cell | cell |\n\nYou can find google site link <a href=\"http://www.google.com\" target=\"_blank\"> here</a>",
      "metadata": {}
    },
    {
      "cell_type": "code",
      "source": "",
      "metadata": {},
      "execution_count": null,
      "outputs": []
    }
  ]
}